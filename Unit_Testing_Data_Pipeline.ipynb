{
  "nbformat": 4,
  "nbformat_minor": 0,
  "metadata": {
    "colab": {
      "name": "Unit-Testing-Data-Pipeline.ipynb",
      "provenance": [],
      "toc_visible": true,
      "authorship_tag": "ABX9TyP72YgLONW3ePLZN4bGgfjV",
      "include_colab_link": true
    },
    "kernelspec": {
      "name": "python3",
      "display_name": "Python 3"
    },
    "language_info": {
      "name": "python"
    }
  },
  "cells": [
    {
      "cell_type": "markdown",
      "metadata": {
        "id": "view-in-github",
        "colab_type": "text"
      },
      "source": [
        "<a href=\"https://colab.research.google.com/github/YagyanshB/SemEval-Task6-CS408/blob/main/Unit_Testing_Data_Pipeline.ipynb\" target=\"_parent\"><img src=\"https://colab.research.google.com/assets/colab-badge.svg\" alt=\"Open In Colab\"/></a>"
      ]
    },
    {
      "cell_type": "markdown",
      "metadata": {
        "id": "i932fDGFVx7b"
      },
      "source": [
        "# Catching Missing Values:\n",
        "\n",
        "---\n",
        "\n"
      ]
    },
    {
      "cell_type": "code",
      "metadata": {
        "id": "QLRnvni5Voe-"
      },
      "source": [
        "# Ensuring none of our tweets contain any missing values.\n",
        "assert df['tweet'].isna().sum()<1   "
      ],
      "execution_count": null,
      "outputs": []
    },
    {
      "cell_type": "code",
      "metadata": {
        "id": "Y6gnIdpCV70J"
      },
      "source": [
        "# Ensuring none of our Sub-Task A labels contain any missing values.\n",
        "assert df['subtask_a'].isna().sum()<1  "
      ],
      "execution_count": null,
      "outputs": []
    },
    {
      "cell_type": "code",
      "metadata": {
        "id": "eGfRye1oWEnn"
      },
      "source": [
        "# Ensuring none of our Sub-Task B labels contain any missing values.\n",
        "assert df['subtask_b'].isna().sum()<1  "
      ],
      "execution_count": null,
      "outputs": []
    },
    {
      "cell_type": "code",
      "metadata": {
        "id": "T8gNbfAOWExu"
      },
      "source": [
        "# Ensuring none of our Sub-Task C labels contain any missing values.\n",
        "assert df['subtask_c'].isna().sum()<1  "
      ],
      "execution_count": null,
      "outputs": []
    },
    {
      "cell_type": "markdown",
      "metadata": {
        "id": "SUUIhmDcWNG4"
      },
      "source": [
        "# Catching Duplicate Values:\n",
        "\n",
        "---\n",
        "\n"
      ]
    },
    {
      "cell_type": "code",
      "metadata": {
        "id": "I0PtFhiEWSRY"
      },
      "source": [
        "# check there is no duplicate\n",
        "assert len(df['id'].unique())==df.shape[0]\n",
        "assert df.groupby(['tweet','id']).size().max()==1"
      ],
      "execution_count": null,
      "outputs": []
    },
    {
      "cell_type": "markdown",
      "metadata": {
        "id": "eCPkyPQscRaL"
      },
      "source": [
        "# Checking Shape Values:\n",
        "\n",
        "---\n",
        "\n"
      ]
    },
    {
      "cell_type": "code",
      "metadata": {
        "id": "dnCOWgkGcWX3"
      },
      "source": [
        "# Ensuring our Dataset has tweets and labels associated with all ids\n",
        "assert df['id'].unique().shape[0] == len(ids)"
      ],
      "execution_count": null,
      "outputs": []
    },
    {
      "cell_type": "markdown",
      "metadata": {
        "id": "lpYK4Dg3d9kt"
      },
      "source": [
        "# Checking Pre-Processing Steps:\n",
        "\n",
        "---\n",
        "\n"
      ]
    },
    {
      "cell_type": "code",
      "metadata": {
        "id": "JT72H6iueBug"
      },
      "source": [
        "assert data_preprocessing(\"@USER this was Such a COOL Machine Project!!!\" )\n",
        " \n",
        " == [\"this\",\"was\",\"such\",\"cool\",\"machine\",\"project\"]"
      ],
      "execution_count": null,
      "outputs": []
    }
  ]
}