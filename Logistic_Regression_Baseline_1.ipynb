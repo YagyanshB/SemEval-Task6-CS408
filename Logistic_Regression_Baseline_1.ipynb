{
  "nbformat": 4,
  "nbformat_minor": 0,
  "metadata": {
    "colab": {
      "name": "Logistic_Regression_Baseline_1.ipynb",
      "provenance": [],
      "collapsed_sections": [
        "P3GxlqYVCe9T",
        "Sn0873K2DV6i",
        "tkr44CnPhPTn",
        "7jXG9sMPpVAs",
        "h5djMko5knV9"
      ],
      "machine_shape": "hm",
      "authorship_tag": "ABX9TyODe/2Sjm6YJ2Kvpqjiuk9v",
      "include_colab_link": true
    },
    "kernelspec": {
      "display_name": "Python 3",
      "name": "python3"
    },
    "language_info": {
      "name": "python"
    }
  },
  "cells": [
    {
      "cell_type": "markdown",
      "metadata": {
        "id": "view-in-github",
        "colab_type": "text"
      },
      "source": [
        "<a href=\"https://colab.research.google.com/github/YagyanshB/SemEval-Task6-CS408/blob/main/Logistic_Regression_Baseline_1.ipynb\" target=\"_parent\"><img src=\"https://colab.research.google.com/assets/colab-badge.svg\" alt=\"Open In Colab\"/></a>"
      ]
    },
    {
      "cell_type": "markdown",
      "metadata": {
        "id": "GKDXddhflcJE"
      },
      "source": [
        "# Logistic Regression :\n",
        "\n",
        "---\n",
        "For our exploratory venture, we have implemented Logistic Regression as one of our **Baseline Models**. The implementation has been provided below.\n",
        "\n",
        "It is strongly recommended to follow the steps as outlined apart from when uploading files to your local environment or directory. Please ensure that the file paths have been named in the right manner.\n"
      ]
    },
    {
      "cell_type": "markdown",
      "metadata": {
        "id": "P3GxlqYVCe9T"
      },
      "source": [
        "# Importing Required Libraries:\n",
        "\n",
        "---\n",
        "For the purpose of proper execution, it is imperative to upload the right set of packages and modules.\n"
      ]
    },
    {
      "cell_type": "code",
      "metadata": {
        "id": "Vq4ZsCpflgwi"
      },
      "source": [
        "import regex as re\n",
        "import numpy as np\n",
        "import pandas as pd\n",
        "from numpy import array\n",
        "from numpy import argmax\n",
        "from sklearn.preprocessing import OneHotEncoder\n",
        "from sklearn.linear_model import LogisticRegression\n",
        "from sklearn import metrics\n",
        "import pickle\n",
        "from pickle import *"
      ],
      "execution_count": 1,
      "outputs": []
    },
    {
      "cell_type": "markdown",
      "metadata": {
        "id": "Sn0873K2DV6i"
      },
      "source": [
        "# Importing the OLID 2019 Dataset:\n",
        "\n",
        "---\n",
        "\n"
      ]
    },
    {
      "cell_type": "code",
      "metadata": {
        "colab": {
          "base_uri": "https://localhost:8080/"
        },
        "id": "MWiOup2rDa7T",
        "outputId": "87193680-93fa-4340-86d1-f5539fd014f7"
      },
      "source": [
        "# We mount our Google Drive within Google Colab. Since I have already uploaded my files on my Google Drive\n",
        "# this task becomes fairly convenient for myself. If running the program, please be sure to mount the \n",
        "# dataset on your google drive as well. \n",
        "\n",
        "from google.colab import drive\n",
        "drive.mount('/content/drive')\n",
        "\n",
        "train_file = 'drive/My Drive/olid-training-v1.new.tsv'\n",
        "\n",
        "test_file_a = 'drive/My Drive/testset-levela.tsv' \n",
        "test_labels_a = 'drive/My Drive/labels-levela.csv' \n",
        "\n",
        "test_labels_b = 'drive/My Drive/labels-levelb.csv' \n",
        "test_file_b = 'drive/My Drive/testset-levelb.tsv' \n",
        "\n",
        "test_file_c = 'drive/My Drive/testset-levelc.tsv' \n",
        "test_labels_c = 'drive/My Drive/labels-levelc.csv' \n",
        "\n",
        "# Within the Code below, we re run the code to ensure that our files have been\n",
        "# mounted in the right manner. It is imperative to have the link to the directory\n",
        "# sent correctly; else the files won't be loaded."
      ],
      "execution_count": 2,
      "outputs": [
        {
          "output_type": "stream",
          "text": [
            "Mounted at /content/drive\n"
          ],
          "name": "stdout"
        }
      ]
    },
    {
      "cell_type": "markdown",
      "metadata": {
        "id": "tkr44CnPhPTn"
      },
      "source": [
        "# Implementation of Sub-Task A:\n",
        "\n",
        "---\n",
        "\n"
      ]
    },
    {
      "cell_type": "code",
      "metadata": {
        "id": "WBZUmrZiVs4S"
      },
      "source": [
        "def read_lines(file):\n",
        "  # We want to create a list of sentence from our OLID 2019 dataset. Each sentence should be a string.\n",
        "\n",
        "  f = open(file).read().strip()\n",
        "  sentences = f.split('\\n\\n')\n",
        "  return sentences"
      ],
      "execution_count": 3,
      "outputs": []
    },
    {
      "cell_type": "code",
      "metadata": {
        "id": "-Pu0kgjkWWjg"
      },
      "source": [
        "def split_lines(lines, column_names):\n",
        "    for line in lines:\n",
        "      rows = line.split('\\n')\n",
        "      line = [dict(zip(column_names, row.split('\\t'))) for row in rows]\n",
        "    return line"
      ],
      "execution_count": 4,
      "outputs": []
    },
    {
      "cell_type": "code",
      "metadata": {
        "id": "kpGuURwBWwUv"
      },
      "source": [
        "def read_lines2(file):\n",
        "    f = open(file).read().strip()\n",
        "    return f"
      ],
      "execution_count": 5,
      "outputs": []
    },
    {
      "cell_type": "code",
      "metadata": {
        "id": "9icHoCEpW8bb"
      },
      "source": [
        "def split_lines2(lines, column_names):\n",
        "    rows = lines.split('\\n')\n",
        "    line = [dict(zip(column_names, row.split(','))) for row in rows]\n",
        "\n",
        "    return line "
      ],
      "execution_count": 6,
      "outputs": []
    },
    {
      "cell_type": "code",
      "metadata": {
        "id": "UbbwubmDXQkC"
      },
      "source": [
        "def one_hot_encode(list_of_tweets, token_index):\n",
        "    max_length = len(token_index)\n",
        "    results = np.zeros(shape = (len(list_of_tweets), max(token_index.values()) +1))\n",
        "\n",
        "    for i, tweet in enumerate(list_of_tweets):\n",
        "        for word in tweet.split():\n",
        "            index = token_index.get(word)\n",
        "            results[i, index] = 1.\n",
        "    return results"
      ],
      "execution_count": 7,
      "outputs": []
    },
    {
      "cell_type": "code",
      "metadata": {
        "id": "e4pKTUFXYNT8"
      },
      "source": [
        "def to_one_hot(labels, token_index):\n",
        "    results = np.zeros((len(labels), max(token_index.values()) +1))\n",
        "    for i, label in enumerate(labels):\n",
        "      index = token_index.get(label)\n",
        "      results[i, index] = 1.\n",
        "    return results"
      ],
      "execution_count": 8,
      "outputs": []
    },
    {
      "cell_type": "code",
      "metadata": {
        "id": "-w_T5u8pZBx5"
      },
      "source": [
        "train_file = 'drive/My Drive/olid-training-v1.new.tsv'\n",
        "\n",
        "test_file = 'drive/My Drive/testset-levela.tsv' \n",
        "test_file_b = 'drive/My Drive/testset-levelb.tsv' \n",
        "test_file_c = 'drive/My Drive/testset-levelc.tsv' \n",
        "\n",
        "test_labels_a = 'drive/My Drive/labels-levela.csv' \n",
        "test_labels_b = 'drive/My Drive/labels-levelb.csv' \n",
        "test_labels_c = 'drive/My Drive/labels-levelc.csv' "
      ],
      "execution_count": 9,
      "outputs": []
    },
    {
      "cell_type": "code",
      "metadata": {
        "id": "hDF8QOYNZXjr"
      },
      "source": [
        "column_names = ['id', 'tweet', 'subtask_a', 'subtask_b', 'subtask_c']\n",
        "column_names_test = ['id', 'tweet']"
      ],
      "execution_count": 10,
      "outputs": []
    },
    {
      "cell_type": "code",
      "metadata": {
        "id": "mkLaYKTwZnK9"
      },
      "source": [
        "lines = read_lines(train_file)\n",
        "formatted_corpus = split_lines(lines, column_names)\n",
        "formatted_corpus = formatted_corpus[1:]"
      ],
      "execution_count": 11,
      "outputs": []
    },
    {
      "cell_type": "code",
      "metadata": {
        "id": "Qu92-GVFk2OR"
      },
      "source": [
        "list_of_tweets = []\n",
        "y_a = []\n",
        "y_b = []\n",
        "y_c = []\n",
        "\n",
        "list_of_off_tweets = []\n",
        "list_of_tin_tweets = []"
      ],
      "execution_count": 12,
      "outputs": []
    },
    {
      "cell_type": "code",
      "metadata": {
        "id": "HxpyyZvGlIxB"
      },
      "source": [
        "label_index = {}"
      ],
      "execution_count": 13,
      "outputs": []
    },
    {
      "cell_type": "code",
      "metadata": {
        "id": "kzV0KszJlLun"
      },
      "source": [
        "for tweet in formatted_corpus:\n",
        "    sentence = tweet['tweet'].lower()\n",
        "    list_of_tweets.append(sentence)\n",
        "    if tweet['subtask_a'] == 'OFF':\n",
        "        y_a.append(1)\n",
        "        list_of_off_tweets.append(sentence)\n",
        "        if tweet['subtask_b'] == 'UNT':\n",
        "            y_b.append(0)\n",
        "        elif tweet['subtask_b'] == 'TIN':\n",
        "            y_b.append(1)\n",
        "            list_of_tin_tweets.append(sentence)\n",
        "            if tweet['subtask_c'] == 'GRP':\n",
        "                y_c.append('GRP')\n",
        "            elif tweet['subtask_c'] == 'IND':\n",
        "                y_c.append('IND')\n",
        "            elif tweet['subtask_c'] == 'OTH':\n",
        "                y_c.append('OTH')\n",
        "            if tweet['subtask_c'] not in label_index:\n",
        "                label_index[tweet['subtask_c']] = len(label_index)\n",
        "    else:\n",
        "        y_a.append(0)"
      ],
      "execution_count": 14,
      "outputs": []
    },
    {
      "cell_type": "code",
      "metadata": {
        "id": "2QdO66AhXBMV"
      },
      "source": [
        "token_index = {}\n",
        "for tweet in list_of_tweets:\n",
        "    for word in tweet.split():\n",
        "        if word not in token_index:\n",
        "            token_index[word] = len(token_index)"
      ],
      "execution_count": 15,
      "outputs": []
    },
    {
      "cell_type": "code",
      "metadata": {
        "id": "N0ncVvGiXVJ4"
      },
      "source": [
        "lines = read_lines(test_file)\n",
        "formatted_corpus_test_a = split_lines(lines, column_names_test)\n",
        "formatted_corpus_test_a = formatted_corpus_test_a[1:]"
      ],
      "execution_count": 16,
      "outputs": []
    },
    {
      "cell_type": "code",
      "metadata": {
        "id": "Jwv_4MuKa_pf"
      },
      "source": [
        "lines = read_lines2(test_labels_a)\n",
        "formatted_corpus_labels_a = split_lines2(lines,['id', 'label'])"
      ],
      "execution_count": 17,
      "outputs": []
    },
    {
      "cell_type": "code",
      "metadata": {
        "id": "s4yDr0ebbRL5"
      },
      "source": [
        "list_of_tweets_test_a = []\n",
        "y_true_a = []"
      ],
      "execution_count": 18,
      "outputs": []
    },
    {
      "cell_type": "code",
      "metadata": {
        "id": "bjjoVJJXbX55"
      },
      "source": [
        "for tweet in formatted_corpus_test_a:\n",
        "    sentence = tweet['tweet'].lower()\n",
        "    list_of_tweets_test_a.append(sentence)"
      ],
      "execution_count": 19,
      "outputs": []
    },
    {
      "cell_type": "code",
      "metadata": {
        "id": "M2_SIRm0dmQV"
      },
      "source": [
        "for tweet in list_of_tweets_test_a:\n",
        "    for word in tweet.split():\n",
        "        if word not in token_index:\n",
        "            token_index[word] = len(token_index)"
      ],
      "execution_count": 20,
      "outputs": []
    },
    {
      "cell_type": "code",
      "metadata": {
        "id": "8p7c5_CJpgOI"
      },
      "source": [
        "for tweet in formatted_corpus_labels_a:\n",
        "    if tweet['label'] == 'NOT':\n",
        "        y_true_a.append(0)\n",
        "    else:\n",
        "        y_true_a.append(1)"
      ],
      "execution_count": 21,
      "outputs": []
    },
    {
      "cell_type": "code",
      "metadata": {
        "id": "M-1UMA2lp2Bj"
      },
      "source": [
        "X_a = one_hot_encode(list_of_tweets, token_index)\n",
        "X_test_a = one_hot_encode(list_of_tweets_test_a, token_index)"
      ],
      "execution_count": 22,
      "outputs": []
    },
    {
      "cell_type": "code",
      "metadata": {
        "id": "g33n0RzXqOkK"
      },
      "source": [
        "classifier = LogisticRegression(penalty = 'l2', dual = True, solver = 'liblinear', verbose = 1)"
      ],
      "execution_count": 23,
      "outputs": []
    },
    {
      "cell_type": "code",
      "metadata": {
        "colab": {
          "base_uri": "https://localhost:8080/"
        },
        "id": "yZ2pkdieqmHj",
        "outputId": "76327a65-5c96-4682-c5a9-bff05487daf4"
      },
      "source": [
        "model = classifier.fit(X_a, y_a)\n",
        "y_pred_a = classifier.predict(X_test_a)"
      ],
      "execution_count": 24,
      "outputs": [
        {
          "output_type": "stream",
          "text": [
            "[LibLinear]"
          ],
          "name": "stdout"
        }
      ]
    },
    {
      "cell_type": "code",
      "metadata": {
        "colab": {
          "base_uri": "https://localhost:8080/"
        },
        "id": "33qiNgGl5_XH",
        "outputId": "9aa09c53-dbbb-4f06-b0cc-9b23b75a69d0"
      },
      "source": [
        "print(\"Classification Report for Sub-Task A:\")\n",
        "print(metrics.classification_report(y_true_a, y_pred_a, target_names = ['NOT', 'OFF'], digits = 4))"
      ],
      "execution_count": 74,
      "outputs": [
        {
          "output_type": "stream",
          "text": [
            "Classification Report for Sub-Task A:\n",
            "              precision    recall  f1-score   support\n",
            "\n",
            "         NOT     0.7972    0.9258    0.8567       620\n",
            "         OFF     0.6714    0.3917    0.4947       240\n",
            "\n",
            "    accuracy                         0.7767       860\n",
            "   macro avg     0.7343    0.6587    0.6757       860\n",
            "weighted avg     0.7621    0.7767    0.7557       860\n",
            "\n"
          ],
          "name": "stdout"
        }
      ]
    },
    {
      "cell_type": "code",
      "metadata": {
        "colab": {
          "base_uri": "https://localhost:8080/"
        },
        "id": "eYPSqrITYGlk",
        "outputId": "c06eaac3-8fd2-4604-a96b-876feec5d474"
      },
      "source": [
        "print(\"Confusion Matrix for Subtask A:\")\n",
        "print(metrics.confusion_matrix(y_true_a, y_pred_a))"
      ],
      "execution_count": 26,
      "outputs": [
        {
          "output_type": "stream",
          "text": [
            "Confusion Matrix for Subtask A:\n",
            "[[574  46]\n",
            " [146  94]]\n"
          ],
          "name": "stdout"
        }
      ]
    },
    {
      "cell_type": "code",
      "metadata": {
        "colab": {
          "base_uri": "https://localhost:8080/"
        },
        "id": "NydnFuexhidj",
        "outputId": "b67b706e-70f0-4eac-b5f9-77b2a5b85916"
      },
      "source": [
        "!pip install PrettyTable"
      ],
      "execution_count": 27,
      "outputs": [
        {
          "output_type": "stream",
          "text": [
            "Requirement already satisfied: PrettyTable in /usr/local/lib/python3.7/dist-packages (2.1.0)\n",
            "Requirement already satisfied: importlib-metadata; python_version < \"3.8\" in /usr/local/lib/python3.7/dist-packages (from PrettyTable) (3.7.2)\n",
            "Requirement already satisfied: wcwidth in /usr/local/lib/python3.7/dist-packages (from PrettyTable) (0.2.5)\n",
            "Requirement already satisfied: zipp>=0.5 in /usr/local/lib/python3.7/dist-packages (from importlib-metadata; python_version < \"3.8\"->PrettyTable) (3.4.1)\n",
            "Requirement already satisfied: typing-extensions>=3.6.4; python_version < \"3.8\" in /usr/local/lib/python3.7/dist-packages (from importlib-metadata; python_version < \"3.8\"->PrettyTable) (3.7.4.3)\n"
          ],
          "name": "stdout"
        }
      ]
    },
    {
      "cell_type": "code",
      "metadata": {
        "colab": {
          "base_uri": "https://localhost:8080/"
        },
        "id": "VF9WqNmCh0wa",
        "outputId": "37217fd1-c431-4d2e-835f-03e39e62c7dd"
      },
      "source": [
        "from prettytable import PrettyTable\n",
        "x = PrettyTable()\n",
        "\n",
        "x.field_names = [\"Method\", \"Macro F1-Score\", \"Accuraccy\"]\n",
        "x.add_row([\"Logistic Regression\", \"0.6757\",\"0.7767\"])\n",
        "\n",
        "print(\"Results for Subtask A:\")\n",
        "print(x)"
      ],
      "execution_count": 28,
      "outputs": [
        {
          "output_type": "stream",
          "text": [
            "Results for Subtask A:\n",
            "+---------------------+----------------+-----------+\n",
            "|        Method       | Macro F1-Score | Accuraccy |\n",
            "+---------------------+----------------+-----------+\n",
            "| Logistic Regression |     0.6757     |   0.7767  |\n",
            "+---------------------+----------------+-----------+\n"
          ],
          "name": "stdout"
        }
      ]
    },
    {
      "cell_type": "markdown",
      "metadata": {
        "id": "7jXG9sMPpVAs"
      },
      "source": [
        "# Implementation of Sub-Task B:\n",
        "\n",
        "---\n",
        "\n"
      ]
    },
    {
      "cell_type": "code",
      "metadata": {
        "id": "-OfoMLk1pZfu"
      },
      "source": [
        "lines = read_lines(test_file_b)\n",
        "formatted_corpus_test_b = split_lines(lines, column_names_test)\n",
        "formatted_corpus_test_b = formatted_corpus_test_b[1:]"
      ],
      "execution_count": 29,
      "outputs": []
    },
    {
      "cell_type": "code",
      "metadata": {
        "id": "EBLQ8A0Dptmb"
      },
      "source": [
        "lines = read_lines2(test_labels_b)\n",
        "formatted_corpus_labels_b = split_lines2(lines, ['id', 'label'])"
      ],
      "execution_count": 30,
      "outputs": []
    },
    {
      "cell_type": "code",
      "metadata": {
        "id": "JVqj1Sg2p7-j"
      },
      "source": [
        "list_of_tweets_test_b = []\n",
        "y_true_b = []"
      ],
      "execution_count": 31,
      "outputs": []
    },
    {
      "cell_type": "code",
      "metadata": {
        "id": "yY7kj5bFqFfk"
      },
      "source": [
        "for tweet in formatted_corpus_test_b:\n",
        "    sentence = tweet['tweet'].lower()\n",
        "    list_of_tweets_test_b.append(sentence)"
      ],
      "execution_count": 32,
      "outputs": []
    },
    {
      "cell_type": "code",
      "metadata": {
        "id": "n_Uz1ZJgqTSu"
      },
      "source": [
        "for tweet in list_of_tweets_test_b:\n",
        "    for word in tweet.split():\n",
        "        if word not in token_index:\n",
        "           token_index[word] = len(token_index)"
      ],
      "execution_count": 33,
      "outputs": []
    },
    {
      "cell_type": "code",
      "metadata": {
        "id": "0Z6YxxaZqjnm"
      },
      "source": [
        "for tweet in formatted_corpus_labels_b:\n",
        "    if tweet['label'] == 'UNT':\n",
        "       y_true_b.append(0)\n",
        "    elif tweet['label'] == 'TIN':\n",
        "       y_true_b.append(1)"
      ],
      "execution_count": 34,
      "outputs": []
    },
    {
      "cell_type": "code",
      "metadata": {
        "id": "qGgN3glAsErb"
      },
      "source": [
        "X_b = one_hot_encode(list_of_tweets, token_index)\n",
        "X_test_b = one_hot_encode(list_of_tweets_test_b, token_index)"
      ],
      "execution_count": 35,
      "outputs": []
    },
    {
      "cell_type": "code",
      "metadata": {
        "colab": {
          "base_uri": "https://localhost:8080/"
        },
        "id": "SlNC6FppwsJO",
        "outputId": "64b31889-6a65-44f3-a358-b03f931827fa"
      },
      "source": [
        "import pandas as pd\n",
        "\n",
        "df = pd.read_csv('drive/My Drive/olid-training-v1.new.tsv', sep = '\\t', nrows=30000)\n",
        "df['subtask_b'].value_counts()"
      ],
      "execution_count": 36,
      "outputs": [
        {
          "output_type": "execute_result",
          "data": {
            "text/plain": [
              "TIN    8299\n",
              "UNT    4941\n",
              "Name: subtask_b, dtype: int64"
            ]
          },
          "metadata": {
            "tags": []
          },
          "execution_count": 36
        }
      ]
    },
    {
      "cell_type": "code",
      "metadata": {
        "id": "-OASvKmjw_SS"
      },
      "source": [
        "from sklearn.feature_extraction.text import TfidfVectorizer"
      ],
      "execution_count": 37,
      "outputs": []
    },
    {
      "cell_type": "code",
      "metadata": {
        "colab": {
          "base_uri": "https://localhost:8080/",
          "height": 253
        },
        "id": "mz-eMaM3xDt_",
        "outputId": "9fcdb9f5-75fc-4f7b-b4a6-b8765e3b0329"
      },
      "source": [
        "vectorizer = TfidfVectorizer(max_features=1000)\n",
        "vectors = vectorizer.fit_transform(df.tweet)\n",
        "words_df = pd.DataFrame(vectors.toarray(), columns=vectorizer.get_feature_names())\n",
        "words_df.head()"
      ],
      "execution_count": 38,
      "outputs": [
        {
          "output_type": "execute_result",
          "data": {
            "text/html": [
              "<div>\n",
              "<style scoped>\n",
              "    .dataframe tbody tr th:only-of-type {\n",
              "        vertical-align: middle;\n",
              "    }\n",
              "\n",
              "    .dataframe tbody tr th {\n",
              "        vertical-align: top;\n",
              "    }\n",
              "\n",
              "    .dataframe thead th {\n",
              "        text-align: right;\n",
              "    }\n",
              "</style>\n",
              "<table border=\"1\" class=\"dataframe\">\n",
              "  <thead>\n",
              "    <tr style=\"text-align: right;\">\n",
              "      <th></th>\n",
              "      <th>10</th>\n",
              "      <th>100</th>\n",
              "      <th>15</th>\n",
              "      <th>20</th>\n",
              "      <th>2020</th>\n",
              "      <th>2a</th>\n",
              "      <th>2nd</th>\n",
              "      <th>30</th>\n",
              "      <th>able</th>\n",
              "      <th>abortion</th>\n",
              "      <th>about</th>\n",
              "      <th>absolutely</th>\n",
              "      <th>abuse</th>\n",
              "      <th>account</th>\n",
              "      <th>accuser</th>\n",
              "      <th>act</th>\n",
              "      <th>actions</th>\n",
              "      <th>actual</th>\n",
              "      <th>actually</th>\n",
              "      <th>after</th>\n",
              "      <th>again</th>\n",
              "      <th>against</th>\n",
              "      <th>agenda</th>\n",
              "      <th>ago</th>\n",
              "      <th>agree</th>\n",
              "      <th>ain</th>\n",
              "      <th>all</th>\n",
              "      <th>allegations</th>\n",
              "      <th>allow</th>\n",
              "      <th>allowed</th>\n",
              "      <th>almost</th>\n",
              "      <th>alone</th>\n",
              "      <th>along</th>\n",
              "      <th>already</th>\n",
              "      <th>also</th>\n",
              "      <th>alt</th>\n",
              "      <th>always</th>\n",
              "      <th>am</th>\n",
              "      <th>amazing</th>\n",
              "      <th>amendment</th>\n",
              "      <th>...</th>\n",
              "      <th>year</th>\n",
              "      <th>years</th>\n",
              "      <th>yes</th>\n",
              "      <th>yet</th>\n",
              "      <th>you</th>\n",
              "      <th>young</th>\n",
              "      <th>your</th>\n",
              "      <th>yourself</th>\n",
              "      <th>zero</th>\n",
              "      <th>äç</th>\n",
              "      <th>äô</th>\n",
              "      <th>äôd</th>\n",
              "      <th>äôll</th>\n",
              "      <th>äôm</th>\n",
              "      <th>äôre</th>\n",
              "      <th>äôs</th>\n",
              "      <th>äôt</th>\n",
              "      <th>äôve</th>\n",
              "      <th>äù</th>\n",
              "      <th>ôäô</th>\n",
              "      <th>ôçô</th>\n",
              "      <th>üá</th>\n",
              "      <th>üèª</th>\n",
              "      <th>üèº</th>\n",
              "      <th>üëä</th>\n",
              "      <th>üëç</th>\n",
              "      <th>üëè</th>\n",
              "      <th>üí</th>\n",
              "      <th>üíï</th>\n",
              "      <th>üíú</th>\n",
              "      <th>üî</th>\n",
              "      <th>üò</th>\n",
              "      <th>üòä</th>\n",
              "      <th>üòå</th>\n",
              "      <th>üòç</th>\n",
              "      <th>üòé</th>\n",
              "      <th>üòò</th>\n",
              "      <th>üòü</th>\n",
              "      <th>üôè</th>\n",
              "      <th>üôñ</th>\n",
              "    </tr>\n",
              "  </thead>\n",
              "  <tbody>\n",
              "    <tr>\n",
              "      <th>0</th>\n",
              "      <td>0.0</td>\n",
              "      <td>0.0</td>\n",
              "      <td>0.0</td>\n",
              "      <td>0.0</td>\n",
              "      <td>0.0</td>\n",
              "      <td>0.0</td>\n",
              "      <td>0.0</td>\n",
              "      <td>0.0</td>\n",
              "      <td>0.0</td>\n",
              "      <td>0.0</td>\n",
              "      <td>0.0</td>\n",
              "      <td>0.0</td>\n",
              "      <td>0.0</td>\n",
              "      <td>0.0</td>\n",
              "      <td>0.0</td>\n",
              "      <td>0.0</td>\n",
              "      <td>0.0</td>\n",
              "      <td>0.0</td>\n",
              "      <td>0.0</td>\n",
              "      <td>0.0</td>\n",
              "      <td>0.0</td>\n",
              "      <td>0.0</td>\n",
              "      <td>0.0</td>\n",
              "      <td>0.0</td>\n",
              "      <td>0.0</td>\n",
              "      <td>0.0</td>\n",
              "      <td>0.0</td>\n",
              "      <td>0.0</td>\n",
              "      <td>0.0</td>\n",
              "      <td>0.0</td>\n",
              "      <td>0.0</td>\n",
              "      <td>0.0</td>\n",
              "      <td>0.0</td>\n",
              "      <td>0.0</td>\n",
              "      <td>0.0</td>\n",
              "      <td>0.0</td>\n",
              "      <td>0.0</td>\n",
              "      <td>0.0</td>\n",
              "      <td>0.0</td>\n",
              "      <td>0.0</td>\n",
              "      <td>...</td>\n",
              "      <td>0.0</td>\n",
              "      <td>0.0</td>\n",
              "      <td>0.0</td>\n",
              "      <td>0.0</td>\n",
              "      <td>0.000000</td>\n",
              "      <td>0.0</td>\n",
              "      <td>0.0</td>\n",
              "      <td>0.0</td>\n",
              "      <td>0.0</td>\n",
              "      <td>0.0</td>\n",
              "      <td>0.0</td>\n",
              "      <td>0.0</td>\n",
              "      <td>0.0</td>\n",
              "      <td>0.0</td>\n",
              "      <td>0.000000</td>\n",
              "      <td>0.0</td>\n",
              "      <td>0.0</td>\n",
              "      <td>0.0</td>\n",
              "      <td>0.0</td>\n",
              "      <td>0.0</td>\n",
              "      <td>0.0</td>\n",
              "      <td>0.000000</td>\n",
              "      <td>0.0</td>\n",
              "      <td>0.0</td>\n",
              "      <td>0.000000</td>\n",
              "      <td>0.0</td>\n",
              "      <td>0.0</td>\n",
              "      <td>0.0</td>\n",
              "      <td>0.0</td>\n",
              "      <td>0.0</td>\n",
              "      <td>0.0</td>\n",
              "      <td>0.0</td>\n",
              "      <td>0.0</td>\n",
              "      <td>0.0</td>\n",
              "      <td>0.000000</td>\n",
              "      <td>0.0</td>\n",
              "      <td>0.0</td>\n",
              "      <td>0.0</td>\n",
              "      <td>0.0</td>\n",
              "      <td>0.0</td>\n",
              "    </tr>\n",
              "    <tr>\n",
              "      <th>1</th>\n",
              "      <td>0.0</td>\n",
              "      <td>0.0</td>\n",
              "      <td>0.0</td>\n",
              "      <td>0.0</td>\n",
              "      <td>0.0</td>\n",
              "      <td>0.0</td>\n",
              "      <td>0.0</td>\n",
              "      <td>0.0</td>\n",
              "      <td>0.0</td>\n",
              "      <td>0.0</td>\n",
              "      <td>0.0</td>\n",
              "      <td>0.0</td>\n",
              "      <td>0.0</td>\n",
              "      <td>0.0</td>\n",
              "      <td>0.0</td>\n",
              "      <td>0.0</td>\n",
              "      <td>0.0</td>\n",
              "      <td>0.0</td>\n",
              "      <td>0.0</td>\n",
              "      <td>0.0</td>\n",
              "      <td>0.0</td>\n",
              "      <td>0.0</td>\n",
              "      <td>0.0</td>\n",
              "      <td>0.0</td>\n",
              "      <td>0.0</td>\n",
              "      <td>0.0</td>\n",
              "      <td>0.0</td>\n",
              "      <td>0.0</td>\n",
              "      <td>0.0</td>\n",
              "      <td>0.0</td>\n",
              "      <td>0.0</td>\n",
              "      <td>0.0</td>\n",
              "      <td>0.0</td>\n",
              "      <td>0.0</td>\n",
              "      <td>0.0</td>\n",
              "      <td>0.0</td>\n",
              "      <td>0.0</td>\n",
              "      <td>0.0</td>\n",
              "      <td>0.0</td>\n",
              "      <td>0.0</td>\n",
              "      <td>...</td>\n",
              "      <td>0.0</td>\n",
              "      <td>0.0</td>\n",
              "      <td>0.0</td>\n",
              "      <td>0.0</td>\n",
              "      <td>0.098538</td>\n",
              "      <td>0.0</td>\n",
              "      <td>0.0</td>\n",
              "      <td>0.0</td>\n",
              "      <td>0.0</td>\n",
              "      <td>0.0</td>\n",
              "      <td>0.0</td>\n",
              "      <td>0.0</td>\n",
              "      <td>0.0</td>\n",
              "      <td>0.0</td>\n",
              "      <td>0.238527</td>\n",
              "      <td>0.0</td>\n",
              "      <td>0.0</td>\n",
              "      <td>0.0</td>\n",
              "      <td>0.0</td>\n",
              "      <td>0.0</td>\n",
              "      <td>0.0</td>\n",
              "      <td>0.452324</td>\n",
              "      <td>0.0</td>\n",
              "      <td>0.0</td>\n",
              "      <td>0.616912</td>\n",
              "      <td>0.0</td>\n",
              "      <td>0.0</td>\n",
              "      <td>0.0</td>\n",
              "      <td>0.0</td>\n",
              "      <td>0.0</td>\n",
              "      <td>0.0</td>\n",
              "      <td>0.0</td>\n",
              "      <td>0.0</td>\n",
              "      <td>0.0</td>\n",
              "      <td>0.000000</td>\n",
              "      <td>0.0</td>\n",
              "      <td>0.0</td>\n",
              "      <td>0.0</td>\n",
              "      <td>0.0</td>\n",
              "      <td>0.0</td>\n",
              "    </tr>\n",
              "    <tr>\n",
              "      <th>2</th>\n",
              "      <td>0.0</td>\n",
              "      <td>0.0</td>\n",
              "      <td>0.0</td>\n",
              "      <td>0.0</td>\n",
              "      <td>0.0</td>\n",
              "      <td>0.0</td>\n",
              "      <td>0.0</td>\n",
              "      <td>0.0</td>\n",
              "      <td>0.0</td>\n",
              "      <td>0.0</td>\n",
              "      <td>0.0</td>\n",
              "      <td>0.0</td>\n",
              "      <td>0.0</td>\n",
              "      <td>0.0</td>\n",
              "      <td>0.0</td>\n",
              "      <td>0.0</td>\n",
              "      <td>0.0</td>\n",
              "      <td>0.0</td>\n",
              "      <td>0.0</td>\n",
              "      <td>0.0</td>\n",
              "      <td>0.0</td>\n",
              "      <td>0.0</td>\n",
              "      <td>0.0</td>\n",
              "      <td>0.0</td>\n",
              "      <td>0.0</td>\n",
              "      <td>0.0</td>\n",
              "      <td>0.0</td>\n",
              "      <td>0.0</td>\n",
              "      <td>0.0</td>\n",
              "      <td>0.0</td>\n",
              "      <td>0.0</td>\n",
              "      <td>0.0</td>\n",
              "      <td>0.0</td>\n",
              "      <td>0.0</td>\n",
              "      <td>0.0</td>\n",
              "      <td>0.0</td>\n",
              "      <td>0.0</td>\n",
              "      <td>0.0</td>\n",
              "      <td>0.0</td>\n",
              "      <td>0.0</td>\n",
              "      <td>...</td>\n",
              "      <td>0.0</td>\n",
              "      <td>0.0</td>\n",
              "      <td>0.0</td>\n",
              "      <td>0.0</td>\n",
              "      <td>0.000000</td>\n",
              "      <td>0.0</td>\n",
              "      <td>0.0</td>\n",
              "      <td>0.0</td>\n",
              "      <td>0.0</td>\n",
              "      <td>0.0</td>\n",
              "      <td>0.0</td>\n",
              "      <td>0.0</td>\n",
              "      <td>0.0</td>\n",
              "      <td>0.0</td>\n",
              "      <td>0.000000</td>\n",
              "      <td>0.0</td>\n",
              "      <td>0.0</td>\n",
              "      <td>0.0</td>\n",
              "      <td>0.0</td>\n",
              "      <td>0.0</td>\n",
              "      <td>0.0</td>\n",
              "      <td>0.000000</td>\n",
              "      <td>0.0</td>\n",
              "      <td>0.0</td>\n",
              "      <td>0.000000</td>\n",
              "      <td>0.0</td>\n",
              "      <td>0.0</td>\n",
              "      <td>0.0</td>\n",
              "      <td>0.0</td>\n",
              "      <td>0.0</td>\n",
              "      <td>0.0</td>\n",
              "      <td>0.0</td>\n",
              "      <td>0.0</td>\n",
              "      <td>0.0</td>\n",
              "      <td>0.000000</td>\n",
              "      <td>0.0</td>\n",
              "      <td>0.0</td>\n",
              "      <td>0.0</td>\n",
              "      <td>0.0</td>\n",
              "      <td>0.0</td>\n",
              "    </tr>\n",
              "    <tr>\n",
              "      <th>3</th>\n",
              "      <td>0.0</td>\n",
              "      <td>0.0</td>\n",
              "      <td>0.0</td>\n",
              "      <td>0.0</td>\n",
              "      <td>0.0</td>\n",
              "      <td>0.0</td>\n",
              "      <td>0.0</td>\n",
              "      <td>0.0</td>\n",
              "      <td>0.0</td>\n",
              "      <td>0.0</td>\n",
              "      <td>0.0</td>\n",
              "      <td>0.0</td>\n",
              "      <td>0.0</td>\n",
              "      <td>0.0</td>\n",
              "      <td>0.0</td>\n",
              "      <td>0.0</td>\n",
              "      <td>0.0</td>\n",
              "      <td>0.0</td>\n",
              "      <td>0.0</td>\n",
              "      <td>0.0</td>\n",
              "      <td>0.0</td>\n",
              "      <td>0.0</td>\n",
              "      <td>0.0</td>\n",
              "      <td>0.0</td>\n",
              "      <td>0.0</td>\n",
              "      <td>0.0</td>\n",
              "      <td>0.0</td>\n",
              "      <td>0.0</td>\n",
              "      <td>0.0</td>\n",
              "      <td>0.0</td>\n",
              "      <td>0.0</td>\n",
              "      <td>0.0</td>\n",
              "      <td>0.0</td>\n",
              "      <td>0.0</td>\n",
              "      <td>0.0</td>\n",
              "      <td>0.0</td>\n",
              "      <td>0.0</td>\n",
              "      <td>0.0</td>\n",
              "      <td>0.0</td>\n",
              "      <td>0.0</td>\n",
              "      <td>...</td>\n",
              "      <td>0.0</td>\n",
              "      <td>0.0</td>\n",
              "      <td>0.0</td>\n",
              "      <td>0.0</td>\n",
              "      <td>0.000000</td>\n",
              "      <td>0.0</td>\n",
              "      <td>0.0</td>\n",
              "      <td>0.0</td>\n",
              "      <td>0.0</td>\n",
              "      <td>0.0</td>\n",
              "      <td>0.0</td>\n",
              "      <td>0.0</td>\n",
              "      <td>0.0</td>\n",
              "      <td>0.0</td>\n",
              "      <td>0.000000</td>\n",
              "      <td>0.0</td>\n",
              "      <td>0.0</td>\n",
              "      <td>0.0</td>\n",
              "      <td>0.0</td>\n",
              "      <td>0.0</td>\n",
              "      <td>0.0</td>\n",
              "      <td>0.000000</td>\n",
              "      <td>0.0</td>\n",
              "      <td>0.0</td>\n",
              "      <td>0.000000</td>\n",
              "      <td>0.0</td>\n",
              "      <td>0.0</td>\n",
              "      <td>0.0</td>\n",
              "      <td>0.0</td>\n",
              "      <td>0.0</td>\n",
              "      <td>0.0</td>\n",
              "      <td>0.0</td>\n",
              "      <td>0.0</td>\n",
              "      <td>0.0</td>\n",
              "      <td>0.377564</td>\n",
              "      <td>0.0</td>\n",
              "      <td>0.0</td>\n",
              "      <td>0.0</td>\n",
              "      <td>0.0</td>\n",
              "      <td>0.0</td>\n",
              "    </tr>\n",
              "    <tr>\n",
              "      <th>4</th>\n",
              "      <td>0.0</td>\n",
              "      <td>0.0</td>\n",
              "      <td>0.0</td>\n",
              "      <td>0.0</td>\n",
              "      <td>0.0</td>\n",
              "      <td>0.0</td>\n",
              "      <td>0.0</td>\n",
              "      <td>0.0</td>\n",
              "      <td>0.0</td>\n",
              "      <td>0.0</td>\n",
              "      <td>0.0</td>\n",
              "      <td>0.0</td>\n",
              "      <td>0.0</td>\n",
              "      <td>0.0</td>\n",
              "      <td>0.0</td>\n",
              "      <td>0.0</td>\n",
              "      <td>0.0</td>\n",
              "      <td>0.0</td>\n",
              "      <td>0.0</td>\n",
              "      <td>0.0</td>\n",
              "      <td>0.0</td>\n",
              "      <td>0.0</td>\n",
              "      <td>0.0</td>\n",
              "      <td>0.0</td>\n",
              "      <td>0.0</td>\n",
              "      <td>0.0</td>\n",
              "      <td>0.0</td>\n",
              "      <td>0.0</td>\n",
              "      <td>0.0</td>\n",
              "      <td>0.0</td>\n",
              "      <td>0.0</td>\n",
              "      <td>0.0</td>\n",
              "      <td>0.0</td>\n",
              "      <td>0.0</td>\n",
              "      <td>0.0</td>\n",
              "      <td>0.0</td>\n",
              "      <td>0.0</td>\n",
              "      <td>0.0</td>\n",
              "      <td>0.0</td>\n",
              "      <td>0.0</td>\n",
              "      <td>...</td>\n",
              "      <td>0.0</td>\n",
              "      <td>0.0</td>\n",
              "      <td>0.0</td>\n",
              "      <td>0.0</td>\n",
              "      <td>0.000000</td>\n",
              "      <td>0.0</td>\n",
              "      <td>0.0</td>\n",
              "      <td>0.0</td>\n",
              "      <td>0.0</td>\n",
              "      <td>0.0</td>\n",
              "      <td>0.0</td>\n",
              "      <td>0.0</td>\n",
              "      <td>0.0</td>\n",
              "      <td>0.0</td>\n",
              "      <td>0.000000</td>\n",
              "      <td>0.0</td>\n",
              "      <td>0.0</td>\n",
              "      <td>0.0</td>\n",
              "      <td>0.0</td>\n",
              "      <td>0.0</td>\n",
              "      <td>0.0</td>\n",
              "      <td>0.000000</td>\n",
              "      <td>0.0</td>\n",
              "      <td>0.0</td>\n",
              "      <td>0.000000</td>\n",
              "      <td>0.0</td>\n",
              "      <td>0.0</td>\n",
              "      <td>0.0</td>\n",
              "      <td>0.0</td>\n",
              "      <td>0.0</td>\n",
              "      <td>0.0</td>\n",
              "      <td>0.0</td>\n",
              "      <td>0.0</td>\n",
              "      <td>0.0</td>\n",
              "      <td>0.000000</td>\n",
              "      <td>0.0</td>\n",
              "      <td>0.0</td>\n",
              "      <td>0.0</td>\n",
              "      <td>0.0</td>\n",
              "      <td>0.0</td>\n",
              "    </tr>\n",
              "  </tbody>\n",
              "</table>\n",
              "<p>5 rows × 1000 columns</p>\n",
              "</div>"
            ],
            "text/plain": [
              "    10  100   15   20  2020   2a  2nd  ...  üòå       üòç  üòé  üòò  üòü  üôè  üôñ\n",
              "0  0.0  0.0  0.0  0.0   0.0  0.0  0.0  ...  0.0  0.000000  0.0  0.0  0.0  0.0  0.0\n",
              "1  0.0  0.0  0.0  0.0   0.0  0.0  0.0  ...  0.0  0.000000  0.0  0.0  0.0  0.0  0.0\n",
              "2  0.0  0.0  0.0  0.0   0.0  0.0  0.0  ...  0.0  0.000000  0.0  0.0  0.0  0.0  0.0\n",
              "3  0.0  0.0  0.0  0.0   0.0  0.0  0.0  ...  0.0  0.377564  0.0  0.0  0.0  0.0  0.0\n",
              "4  0.0  0.0  0.0  0.0   0.0  0.0  0.0  ...  0.0  0.000000  0.0  0.0  0.0  0.0  0.0\n",
              "\n",
              "[5 rows x 1000 columns]"
            ]
          },
          "metadata": {
            "tags": []
          },
          "execution_count": 38
        }
      ]
    },
    {
      "cell_type": "code",
      "metadata": {
        "id": "LAz_1aEixVFd"
      },
      "source": [
        "X = words_df\n",
        "y = df['subtask_b']"
      ],
      "execution_count": 39,
      "outputs": []
    },
    {
      "cell_type": "code",
      "metadata": {
        "id": "jruwqPjZxXmC"
      },
      "source": [
        "from sklearn.linear_model import LinearRegression\n",
        "from sklearn.linear_model import LogisticRegression"
      ],
      "execution_count": 40,
      "outputs": []
    },
    {
      "cell_type": "code",
      "metadata": {
        "colab": {
          "base_uri": "https://localhost:8080/"
        },
        "id": "Ti0Wx8UWxbOS",
        "outputId": "ffa413c1-26a2-4248-e086-e8c67fb31d78"
      },
      "source": [
        "%%time\n",
        "# Create and train a logistic regression\n",
        "logreg = LogisticRegression(C=1e9, solver='lbfgs', max_iter= 1000)\n",
        "logreg.fit(X, y)"
      ],
      "execution_count": 41,
      "outputs": [
        {
          "output_type": "stream",
          "text": [
            "CPU times: user 9.97 s, sys: 2.15 s, total: 12.1 s\n",
            "Wall time: 3.15 s\n"
          ],
          "name": "stdout"
        }
      ]
    },
    {
      "cell_type": "code",
      "metadata": {
        "id": "D1KMbyh5x_Y7"
      },
      "source": [
        "from sklearn.model_selection import train_test_split\n",
        "\n",
        "X_train, X_test, y_train, y_test = train_test_split(X, y)"
      ],
      "execution_count": 42,
      "outputs": []
    },
    {
      "cell_type": "code",
      "metadata": {
        "colab": {
          "base_uri": "https://localhost:8080/"
        },
        "id": "eeEBA9EGyCnW",
        "outputId": "6e7db08a-9192-4bc1-e54d-e4060723465d"
      },
      "source": [
        "print(\"Training logistic regression\")\n",
        "logreg.fit(X_train, y_train)"
      ],
      "execution_count": 43,
      "outputs": [
        {
          "output_type": "stream",
          "text": [
            "Training logistic regression\n"
          ],
          "name": "stdout"
        },
        {
          "output_type": "execute_result",
          "data": {
            "text/plain": [
              "LogisticRegression(C=1000000000.0, class_weight=None, dual=False,\n",
              "                   fit_intercept=True, intercept_scaling=1, l1_ratio=None,\n",
              "                   max_iter=1000, multi_class='auto', n_jobs=None, penalty='l2',\n",
              "                   random_state=None, solver='lbfgs', tol=0.0001, verbose=0,\n",
              "                   warm_start=False)"
            ]
          },
          "metadata": {
            "tags": []
          },
          "execution_count": 43
        }
      ]
    },
    {
      "cell_type": "code",
      "metadata": {
        "id": "9UJYn_hVyFDG"
      },
      "source": [
        "from sklearn.metrics import confusion_matrix"
      ],
      "execution_count": 44,
      "outputs": []
    },
    {
      "cell_type": "code",
      "metadata": {
        "id": "a_W_na8lyHzq",
        "colab": {
          "base_uri": "https://localhost:8080/",
          "height": 111
        },
        "outputId": "796f8ac3-aa0a-4cde-bca7-532a4c52e863"
      },
      "source": [
        "y_true = y_test\n",
        "y_pred = logreg.predict(X_test)\n",
        "matrix = confusion_matrix(y_true, y_pred)\n",
        "\n",
        "label_names = pd.Series(['TIN', 'UNT'])\n",
        "pd.DataFrame(matrix,\n",
        "     columns='Predicted ' + label_names,\n",
        "     index='Is ' + label_names)"
      ],
      "execution_count": 45,
      "outputs": [
        {
          "output_type": "execute_result",
          "data": {
            "text/html": [
              "<div>\n",
              "<style scoped>\n",
              "    .dataframe tbody tr th:only-of-type {\n",
              "        vertical-align: middle;\n",
              "    }\n",
              "\n",
              "    .dataframe tbody tr th {\n",
              "        vertical-align: top;\n",
              "    }\n",
              "\n",
              "    .dataframe thead th {\n",
              "        text-align: right;\n",
              "    }\n",
              "</style>\n",
              "<table border=\"1\" class=\"dataframe\">\n",
              "  <thead>\n",
              "    <tr style=\"text-align: right;\">\n",
              "      <th></th>\n",
              "      <th>Predicted TIN</th>\n",
              "      <th>Predicted UNT</th>\n",
              "    </tr>\n",
              "  </thead>\n",
              "  <tbody>\n",
              "    <tr>\n",
              "      <th>Is TIN</th>\n",
              "      <td>1630</td>\n",
              "      <td>450</td>\n",
              "    </tr>\n",
              "    <tr>\n",
              "      <th>Is UNT</th>\n",
              "      <td>892</td>\n",
              "      <td>338</td>\n",
              "    </tr>\n",
              "  </tbody>\n",
              "</table>\n",
              "</div>"
            ],
            "text/plain": [
              "        Predicted TIN  Predicted UNT\n",
              "Is TIN           1630            450\n",
              "Is UNT            892            338"
            ]
          },
          "metadata": {
            "tags": []
          },
          "execution_count": 45
        }
      ]
    },
    {
      "cell_type": "code",
      "metadata": {
        "id": "PLnOLnJX2ZVT",
        "colab": {
          "base_uri": "https://localhost:8080/",
          "height": 111
        },
        "outputId": "a0817d64-20e5-43b7-f137-f02ceb92a3b0"
      },
      "source": [
        "y_true = y_test\n",
        "y_pred = logreg.predict(X_test)\n",
        "matrix = confusion_matrix(y_true, y_pred)\n",
        "\n",
        "label_names = pd.Series(['TIN', 'UNT'])\n",
        "pd.DataFrame(matrix,\n",
        "     columns='Predicted ' + label_names,\n",
        "     index='Is ' + label_names).div(matrix.sum(axis=1), axis=0)\n"
      ],
      "execution_count": 46,
      "outputs": [
        {
          "output_type": "execute_result",
          "data": {
            "text/html": [
              "<div>\n",
              "<style scoped>\n",
              "    .dataframe tbody tr th:only-of-type {\n",
              "        vertical-align: middle;\n",
              "    }\n",
              "\n",
              "    .dataframe tbody tr th {\n",
              "        vertical-align: top;\n",
              "    }\n",
              "\n",
              "    .dataframe thead th {\n",
              "        text-align: right;\n",
              "    }\n",
              "</style>\n",
              "<table border=\"1\" class=\"dataframe\">\n",
              "  <thead>\n",
              "    <tr style=\"text-align: right;\">\n",
              "      <th></th>\n",
              "      <th>Predicted TIN</th>\n",
              "      <th>Predicted UNT</th>\n",
              "    </tr>\n",
              "  </thead>\n",
              "  <tbody>\n",
              "    <tr>\n",
              "      <th>Is TIN</th>\n",
              "      <td>0.783654</td>\n",
              "      <td>0.216346</td>\n",
              "    </tr>\n",
              "    <tr>\n",
              "      <th>Is UNT</th>\n",
              "      <td>0.725203</td>\n",
              "      <td>0.274797</td>\n",
              "    </tr>\n",
              "  </tbody>\n",
              "</table>\n",
              "</div>"
            ],
            "text/plain": [
              "        Predicted TIN  Predicted UNT\n",
              "Is TIN       0.783654       0.216346\n",
              "Is UNT       0.725203       0.274797"
            ]
          },
          "metadata": {
            "tags": []
          },
          "execution_count": 46
        }
      ]
    },
    {
      "cell_type": "code",
      "metadata": {
        "id": "mOjQlbyn21Xz"
      },
      "source": [
        "import sklearn.metrics as metrics"
      ],
      "execution_count": 47,
      "outputs": []
    },
    {
      "cell_type": "code",
      "metadata": {
        "colab": {
          "base_uri": "https://localhost:8080/"
        },
        "id": "GZGnj3HpLyE3",
        "outputId": "f8401c5f-d7a0-47c8-fde7-fb57ed0fc839"
      },
      "source": [
        "print(\"Classification Report for Sub-Task B:\")\n",
        "print(metrics.classification_report(y_true, y_pred))"
      ],
      "execution_count": 71,
      "outputs": [
        {
          "output_type": "stream",
          "text": [
            "Classification Report for Sub-Task B:\n",
            "              precision    recall  f1-score   support\n",
            "\n",
            "         TIN       0.65      0.78      0.71      2080\n",
            "         UNT       0.43      0.27      0.33      1230\n",
            "\n",
            "    accuracy                           0.59      3310\n",
            "   macro avg       0.54      0.53      0.52      3310\n",
            "weighted avg       0.57      0.59      0.57      3310\n",
            "\n"
          ],
          "name": "stdout"
        }
      ]
    },
    {
      "cell_type": "code",
      "metadata": {
        "id": "AlvMkHX_Zhs6"
      },
      "source": [
        "from prettytable import PrettyTable\n",
        "\n",
        "y = PrettyTable()\n",
        "y.field_names = ['Method', 'Macro F1-Score', 'Accuraccy']\n",
        "y.add_row([\"Logistic Regression\", \"0.52\", \"0.59\"])"
      ],
      "execution_count": 52,
      "outputs": []
    },
    {
      "cell_type": "code",
      "metadata": {
        "colab": {
          "base_uri": "https://localhost:8080/"
        },
        "id": "IqxFeOV1aIqy",
        "outputId": "98eb3a52-9b08-44a5-9e5e-c8bff438db45"
      },
      "source": [
        "print('Results for Subtask B:')\n",
        "print(y)"
      ],
      "execution_count": 53,
      "outputs": [
        {
          "output_type": "stream",
          "text": [
            "Results for Subtask B:\n",
            "+---------------------+----------------+-----------+\n",
            "|        Method       | Macro F1-Score | Accuraccy |\n",
            "+---------------------+----------------+-----------+\n",
            "| Logistic Regression |      0.52      |    0.59   |\n",
            "+---------------------+----------------+-----------+\n"
          ],
          "name": "stdout"
        }
      ]
    },
    {
      "cell_type": "markdown",
      "metadata": {
        "id": "h5djMko5knV9"
      },
      "source": [
        "# Implementation of Sub-Task C:\n",
        "\n",
        "---\n",
        "\n"
      ]
    },
    {
      "cell_type": "code",
      "metadata": {
        "id": "BYu4i6-Sk0PY"
      },
      "source": [
        "lines = read_lines(test_file_c)\n",
        "formatted_corpus_test_c = split_lines(lines, column_names_test)\n",
        "formatted_corpus_test_c = formatted_corpus_test_c[1:]"
      ],
      "execution_count": 54,
      "outputs": []
    },
    {
      "cell_type": "code",
      "metadata": {
        "id": "TXxcpPmlmFn0"
      },
      "source": [
        "lines = read_lines2(test_labels_c)\n",
        "formatted_corpus_labels = split_lines2(lines,['id', 'label'])\n",
        "\n",
        "list_of_tweets_test_c = []\n",
        "y_true_c = []"
      ],
      "execution_count": 55,
      "outputs": []
    },
    {
      "cell_type": "code",
      "metadata": {
        "id": "9pKy406nmbTQ"
      },
      "source": [
        "for tweet in formatted_corpus_test_c:\n",
        "    sentence = tweet['tweet'].lower()\n",
        "    list_of_tweets_test_c.append(sentence)"
      ],
      "execution_count": 56,
      "outputs": []
    },
    {
      "cell_type": "code",
      "metadata": {
        "id": "TQzYh28Lmqvu"
      },
      "source": [
        "for tweet in list_of_tweets_test_c:\n",
        "    for word in tweet.split():\n",
        "        if word not in token_index:\n",
        "            token_index[word]= len(token_index)"
      ],
      "execution_count": 57,
      "outputs": []
    },
    {
      "cell_type": "code",
      "metadata": {
        "id": "hSfWUstGm84w"
      },
      "source": [
        "for tweet in formatted_corpus_labels:\n",
        "    if tweet['label']=='GRP':\n",
        "        y_true_c.append('GRP')\n",
        "    elif tweet['label']=='IND':\n",
        "        y_true_c.append('IND')\n",
        "    elif tweet['label']=='OTH':\n",
        "        y_true_c.append('OTH')"
      ],
      "execution_count": 59,
      "outputs": []
    },
    {
      "cell_type": "code",
      "metadata": {
        "id": "5hLhHgjVnbvN"
      },
      "source": [
        "one_hot_train_lables = to_one_hot(y_c, label_index)\n",
        "one_hot_test_labels = to_one_hot(y_true_c, label_index)"
      ],
      "execution_count": 60,
      "outputs": []
    },
    {
      "cell_type": "code",
      "metadata": {
        "id": "Wd8NtUUqnr-8"
      },
      "source": [
        "X_c = one_hot_encode(list_of_tin_tweets, token_index)\n",
        "X_test_c = one_hot_encode(list_of_tweets_test_c, token_index)"
      ],
      "execution_count": 61,
      "outputs": []
    },
    {
      "cell_type": "code",
      "metadata": {
        "colab": {
          "base_uri": "https://localhost:8080/"
        },
        "id": "y5xuCjfNn5Ky",
        "outputId": "47fac240-eeec-48be-a1c5-d259b6322796"
      },
      "source": [
        "model = classifier.fit(X_c, y_c)\n",
        "y_pred_c = classifier.predict(X_test_c)"
      ],
      "execution_count": 68,
      "outputs": [
        {
          "output_type": "stream",
          "text": [
            "[LibLinear]"
          ],
          "name": "stdout"
        }
      ]
    },
    {
      "cell_type": "code",
      "metadata": {
        "colab": {
          "base_uri": "https://localhost:8080/"
        },
        "id": "n3nbfnWNouQ0",
        "outputId": "941a5f6d-3716-46c2-ef94-7c062c2797b4"
      },
      "source": [
        "print(\"Classification Report for Sub-Task C:\")\n",
        "print(metrics.classification_report(y_true_c, y_pred_c, digits = 4))"
      ],
      "execution_count": 67,
      "outputs": [
        {
          "output_type": "stream",
          "text": [
            "Classification Report for Sub-Task C:\n",
            "              precision    recall  f1-score   support\n",
            "\n",
            "         GRP     0.6533    0.6282    0.6405        78\n",
            "         IND     0.6471    0.8800    0.7458       100\n",
            "         OTH     0.5000    0.0286    0.0541        35\n",
            "\n",
            "    accuracy                         0.6479       213\n",
            "   macro avg     0.6001    0.5123    0.4801       213\n",
            "weighted avg     0.6252    0.6479    0.5936       213\n",
            "\n"
          ],
          "name": "stdout"
        }
      ]
    },
    {
      "cell_type": "code",
      "metadata": {
        "colab": {
          "base_uri": "https://localhost:8080/"
        },
        "id": "Uc9JdUiLollj",
        "outputId": "42848203-3893-4d56-cdbb-9ec0809d1fd5"
      },
      "source": [
        "print(\"Confusion Matrix for Sub-Task C\")\n",
        "print(metrics.confusion_matrix(y_true_c, y_pred_c))"
      ],
      "execution_count": 69,
      "outputs": [
        {
          "output_type": "stream",
          "text": [
            "Confusion Matrix for Sub-Task C\n",
            "[[49 28  1]\n",
            " [12 88  0]\n",
            " [14 20  1]]\n"
          ],
          "name": "stdout"
        }
      ]
    },
    {
      "cell_type": "code",
      "metadata": {
        "colab": {
          "base_uri": "https://localhost:8080/"
        },
        "id": "SGI8PDbupFMM",
        "outputId": "2ce8c4ed-4148-4ebf-c7dd-0e16002d7d02"
      },
      "source": [
        "from prettytable import PrettyTable\n",
        "\n",
        "z = PrettyTable()\n",
        "z.field_names = ['Method', 'Macro F1-Score', 'Accuraccy']\n",
        "z.add_row([\"Logistic Regression\", \"0.48\", \"0.64\"])\n",
        "\n",
        "print(z)"
      ],
      "execution_count": 73,
      "outputs": [
        {
          "output_type": "stream",
          "text": [
            "+---------------------+----------------+-----------+\n",
            "|        Method       | Macro F1-Score | Accuraccy |\n",
            "+---------------------+----------------+-----------+\n",
            "| Logistic Regression |      0.48      |    0.64   |\n",
            "+---------------------+----------------+-----------+\n"
          ],
          "name": "stdout"
        }
      ]
    }
  ]
}