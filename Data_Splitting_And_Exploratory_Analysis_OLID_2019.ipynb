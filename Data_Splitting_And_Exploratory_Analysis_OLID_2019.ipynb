{
  "nbformat": 4,
  "nbformat_minor": 0,
  "metadata": {
    "colab": {
      "name": "Data_Splitting_And_Exploratory_Analysis_OLID_2019.ipynb",
      "provenance": [],
      "collapsed_sections": [],
      "authorship_tag": "ABX9TyNEVE5W/tsnnSEheciIRZ/w",
      "include_colab_link": true
    },
    "kernelspec": {
      "name": "python3",
      "display_name": "Python 3"
    },
    "language_info": {
      "name": "python"
    }
  },
  "cells": [
    {
      "cell_type": "markdown",
      "metadata": {
        "id": "view-in-github",
        "colab_type": "text"
      },
      "source": [
        "<a href=\"https://colab.research.google.com/github/YagyanshB/SemEval-Task6-CS408/blob/main/Data_Splitting_And_Exploratory_Analysis_OLID_2019.ipynb\" target=\"_parent\"><img src=\"https://colab.research.google.com/assets/colab-badge.svg\" alt=\"Open In Colab\"/></a>"
      ]
    },
    {
      "cell_type": "code",
      "metadata": {
        "colab": {
          "base_uri": "https://localhost:8080/"
        },
        "id": "IxhDunoZ1mfP",
        "outputId": "90167545-67e2-48f6-e3e4-7f63e92bf4ee"
      },
      "source": [
        "# We mount our Google Drive within Google Colab. Since I have already uploaded my files on my Google Drive\n",
        "# this task becomes fairly convenient for myself. If running the program, please be sure to mount the \n",
        "# dataset on your google drive as well. \n",
        "\n",
        "from google.colab import drive\n",
        "drive.mount('/content/drive')\n",
        "\n",
        "train_file = 'drive/My Drive/olid-training-v1.0.tsv'\n",
        "\n",
        "test_file_a = 'drive/My Drive/testset-levela.tsv' \n",
        "test_labels_a = 'drive/My Drive/labels-levela.csv' \n",
        "\n",
        "test_labels_b = 'drive/My Drive/labels-levelb.csv' \n",
        "test_file_b = 'drive/My Drive/testset-levelb.tsv' \n",
        "\n",
        "test_file_c = 'drive/My Drive/testset-levelc.tsv' \n",
        "test_labels_c = 'drive/My Drive/labels-levelc.csv' \n",
        "\n",
        "# Within the Code below, we re run the code to ensure that our files have been\n",
        "# mounted in the right manner. It is imperative to have the link to the directory\n",
        "# sent correctly; else the files won't be loaded."
      ],
      "execution_count": 2,
      "outputs": [
        {
          "output_type": "stream",
          "text": [
            "Mounted at /content/drive\n"
          ],
          "name": "stdout"
        }
      ]
    },
    {
      "cell_type": "code",
      "metadata": {
        "id": "q1yScwmD19ux"
      },
      "source": [
        "import numpy as np # linear algebra\n",
        "import pandas as pd # data processing, CSV file I/O (e.g. pd.read_csv)\n",
        "from sklearn.feature_extraction.text import CountVectorizer\n",
        "from sklearn.pipeline import Pipeline\n",
        "from sklearn.model_selection import train_test_split, GridSearchCV\n",
        "from sklearn.metrics import confusion_matrix,f1_score\n",
        "from sklearn.naive_bayes import MultinomialNB\n",
        "from sklearn.ensemble import RandomForestClassifier\n",
        "\n",
        "import seaborn as sns\n",
        "import re\n",
        "import matplotlib.pyplot as plt\n",
        "import missingno as ms\n",
        "% matplotlib inline\n",
        "\n",
        "import seaborn as sns\n",
        "from plotly.offline import download_plotlyjs, init_notebook_mode, plot, iplot"
      ],
      "execution_count": 3,
      "outputs": []
    },
    {
      "cell_type": "code",
      "metadata": {
        "id": "Tn7OsQvc2Hml"
      },
      "source": [
        "training_data = pd.read_csv('drive/My Drive/olid-training-v1.0.csv') #to read and store in panda dataframe\n",
        "testing_data_a = pd.read_csv('drive/My Drive/testset-levela.csv') #to read and store in panda dataframe\n",
        "testing_data_b = pd.read_csv('drive/My Drive/testset-levelb.csv') #to read and store in panda dataframe\n",
        "testing_data_c = pd.read_csv('drive/My Drive/testset-levelc.csv') #to read and store in panda dataframe\n"
      ],
      "execution_count": 104,
      "outputs": []
    },
    {
      "cell_type": "code",
      "metadata": {
        "colab": {
          "base_uri": "https://localhost:8080/"
        },
        "id": "abiPeZcm2k_8",
        "outputId": "e98225ca-8c9d-4b1c-9331-b13575b0f663"
      },
      "source": [
        "training_data.shape, testing_data_a.shape #to print number of rows and columns"
      ],
      "execution_count": 105,
      "outputs": [
        {
          "output_type": "execute_result",
          "data": {
            "text/plain": [
              "((13240, 5), (860, 2))"
            ]
          },
          "metadata": {
            "tags": []
          },
          "execution_count": 105
        }
      ]
    },
    {
      "cell_type": "code",
      "metadata": {
        "colab": {
          "base_uri": "https://localhost:8080/"
        },
        "id": "NsPPGgLSrjv-",
        "outputId": "cebe22d7-6fa3-4ac1-93b7-7209ef5e64e4"
      },
      "source": [
        "training_data.shape, testing_data_b.shape #to print number of rows and columns"
      ],
      "execution_count": 106,
      "outputs": [
        {
          "output_type": "execute_result",
          "data": {
            "text/plain": [
              "((13240, 5), (240, 2))"
            ]
          },
          "metadata": {
            "tags": []
          },
          "execution_count": 106
        }
      ]
    },
    {
      "cell_type": "code",
      "metadata": {
        "colab": {
          "base_uri": "https://localhost:8080/"
        },
        "id": "PZ57K9MYrlxS",
        "outputId": "01f52166-4e12-48af-e156-844ca7f6dbf9"
      },
      "source": [
        "training_data.shape, testing_data_c.shape #to print number of rows and columns"
      ],
      "execution_count": 107,
      "outputs": [
        {
          "output_type": "execute_result",
          "data": {
            "text/plain": [
              "((13240, 5), (213, 2))"
            ]
          },
          "metadata": {
            "tags": []
          },
          "execution_count": 107
        }
      ]
    },
    {
      "cell_type": "code",
      "metadata": {
        "colab": {
          "base_uri": "https://localhost:8080/",
          "height": 359
        },
        "id": "z9WAev5L2oM4",
        "outputId": "e816dbcd-1e36-4e3d-bbf6-33de25fdc3da"
      },
      "source": [
        "training_data.head(10) #to print top 10 tweets from training data"
      ],
      "execution_count": 109,
      "outputs": [
        {
          "output_type": "execute_result",
          "data": {
            "text/html": [
              "<div>\n",
              "<style scoped>\n",
              "    .dataframe tbody tr th:only-of-type {\n",
              "        vertical-align: middle;\n",
              "    }\n",
              "\n",
              "    .dataframe tbody tr th {\n",
              "        vertical-align: top;\n",
              "    }\n",
              "\n",
              "    .dataframe thead th {\n",
              "        text-align: right;\n",
              "    }\n",
              "</style>\n",
              "<table border=\"1\" class=\"dataframe\">\n",
              "  <thead>\n",
              "    <tr style=\"text-align: right;\">\n",
              "      <th></th>\n",
              "      <th>id</th>\n",
              "      <th>tweet</th>\n",
              "      <th>subtask_a</th>\n",
              "      <th>subtask_b</th>\n",
              "      <th>subtask_c</th>\n",
              "    </tr>\n",
              "  </thead>\n",
              "  <tbody>\n",
              "    <tr>\n",
              "      <th>0</th>\n",
              "      <td>86426</td>\n",
              "      <td>@USER She should ask a few native Americans wh...</td>\n",
              "      <td>OFF</td>\n",
              "      <td>UNT</td>\n",
              "      <td>NaN</td>\n",
              "    </tr>\n",
              "    <tr>\n",
              "      <th>1</th>\n",
              "      <td>90194</td>\n",
              "      <td>@USER @USER Go home you‚Äôre drunk!!! @USER #M...</td>\n",
              "      <td>OFF</td>\n",
              "      <td>TIN</td>\n",
              "      <td>IND</td>\n",
              "    </tr>\n",
              "    <tr>\n",
              "      <th>2</th>\n",
              "      <td>16820</td>\n",
              "      <td>Amazon is investigating Chinese employees who ...</td>\n",
              "      <td>NOT</td>\n",
              "      <td>NaN</td>\n",
              "      <td>NaN</td>\n",
              "    </tr>\n",
              "    <tr>\n",
              "      <th>3</th>\n",
              "      <td>62688</td>\n",
              "      <td>@USER Someone should'veTaken\" this piece of sh...</td>\n",
              "      <td>OFF</td>\n",
              "      <td>UNT</td>\n",
              "      <td>NaN</td>\n",
              "    </tr>\n",
              "    <tr>\n",
              "      <th>4</th>\n",
              "      <td>43605</td>\n",
              "      <td>@USER @USER Obama wanted liberals &amp;amp; illega...</td>\n",
              "      <td>NOT</td>\n",
              "      <td>NaN</td>\n",
              "      <td>NaN</td>\n",
              "    </tr>\n",
              "    <tr>\n",
              "      <th>5</th>\n",
              "      <td>97670</td>\n",
              "      <td>@USER Liberals are all Kookoo !!!</td>\n",
              "      <td>OFF</td>\n",
              "      <td>TIN</td>\n",
              "      <td>OTH</td>\n",
              "    </tr>\n",
              "    <tr>\n",
              "      <th>6</th>\n",
              "      <td>77444</td>\n",
              "      <td>@USER @USER Oh noes! Tough shit.</td>\n",
              "      <td>OFF</td>\n",
              "      <td>UNT</td>\n",
              "      <td>NaN</td>\n",
              "    </tr>\n",
              "    <tr>\n",
              "      <th>7</th>\n",
              "      <td>52415</td>\n",
              "      <td>@USER was literally just talking about this lo...</td>\n",
              "      <td>OFF</td>\n",
              "      <td>TIN</td>\n",
              "      <td>GRP</td>\n",
              "    </tr>\n",
              "    <tr>\n",
              "      <th>8</th>\n",
              "      <td>45157</td>\n",
              "      <td>@USER Buy more icecream!!!</td>\n",
              "      <td>NOT</td>\n",
              "      <td>NaN</td>\n",
              "      <td>NaN</td>\n",
              "    </tr>\n",
              "    <tr>\n",
              "      <th>9</th>\n",
              "      <td>13384</td>\n",
              "      <td>@USER Canada doesn‚Äôt need another CUCK! We a...</td>\n",
              "      <td>OFF</td>\n",
              "      <td>TIN</td>\n",
              "      <td>IND</td>\n",
              "    </tr>\n",
              "  </tbody>\n",
              "</table>\n",
              "</div>"
            ],
            "text/plain": [
              "      id                                              tweet  ... subtask_b subtask_c\n",
              "0  86426  @USER She should ask a few native Americans wh...  ...       UNT       NaN\n",
              "1  90194  @USER @USER Go home you‚Äôre drunk!!! @USER #M...  ...       TIN       IND\n",
              "2  16820  Amazon is investigating Chinese employees who ...  ...       NaN       NaN\n",
              "3  62688  @USER Someone should'veTaken\" this piece of sh...  ...       UNT       NaN\n",
              "4  43605  @USER @USER Obama wanted liberals &amp; illega...  ...       NaN       NaN\n",
              "5  97670                  @USER Liberals are all Kookoo !!!  ...       TIN       OTH\n",
              "6  77444                   @USER @USER Oh noes! Tough shit.  ...       UNT       NaN\n",
              "7  52415  @USER was literally just talking about this lo...  ...       TIN       GRP\n",
              "8  45157                         @USER Buy more icecream!!!  ...       NaN       NaN\n",
              "9  13384  @USER Canada doesn‚Äôt need another CUCK! We a...  ...       TIN       IND\n",
              "\n",
              "[10 rows x 5 columns]"
            ]
          },
          "metadata": {
            "tags": []
          },
          "execution_count": 109
        }
      ]
    },
    {
      "cell_type": "code",
      "metadata": {
        "colab": {
          "base_uri": "https://localhost:8080/"
        },
        "id": "jIIcO89J2rTi",
        "outputId": "7e3a405b-2985-46a2-c4a6-fd695cd4ff0a"
      },
      "source": [
        "training_data.info() #complete info of the training data"
      ],
      "execution_count": 110,
      "outputs": [
        {
          "output_type": "stream",
          "text": [
            "<class 'pandas.core.frame.DataFrame'>\n",
            "RangeIndex: 13240 entries, 0 to 13239\n",
            "Data columns (total 5 columns):\n",
            " #   Column     Non-Null Count  Dtype \n",
            "---  ------     --------------  ----- \n",
            " 0   id         13240 non-null  int64 \n",
            " 1   tweet      13240 non-null  object\n",
            " 2   subtask_a  13240 non-null  object\n",
            " 3   subtask_b  4400 non-null   object\n",
            " 4   subtask_c  3876 non-null   object\n",
            "dtypes: int64(1), object(4)\n",
            "memory usage: 517.3+ KB\n"
          ],
          "name": "stdout"
        }
      ]
    },
    {
      "cell_type": "code",
      "metadata": {
        "colab": {
          "base_uri": "https://localhost:8080/"
        },
        "id": "hS-zqimx2vpt",
        "outputId": "ee3c7b63-bbe8-4b5c-dad8-81b74ab00796"
      },
      "source": [
        "training_data['subtask_a'].value_counts() #count number of  positive and negative  tweet for Subtask A"
      ],
      "execution_count": 112,
      "outputs": [
        {
          "output_type": "execute_result",
          "data": {
            "text/plain": [
              "NOT    8840\n",
              "OFF    4400\n",
              "Name: subtask_a, dtype: int64"
            ]
          },
          "metadata": {
            "tags": []
          },
          "execution_count": 112
        }
      ]
    },
    {
      "cell_type": "code",
      "metadata": {
        "colab": {
          "base_uri": "https://localhost:8080/"
        },
        "id": "_qRjTNPirzWx",
        "outputId": "854410a1-ff10-46a7-acda-1e4bdf61ba41"
      },
      "source": [
        "training_data['subtask_b'].value_counts() #count number of  targeted and untargeted tweets for Subtask B"
      ],
      "execution_count": 113,
      "outputs": [
        {
          "output_type": "execute_result",
          "data": {
            "text/plain": [
              "TIN    3876\n",
              "UNT     524\n",
              "Name: subtask_b, dtype: int64"
            ]
          },
          "metadata": {
            "tags": []
          },
          "execution_count": 113
        }
      ]
    },
    {
      "cell_type": "code",
      "metadata": {
        "colab": {
          "base_uri": "https://localhost:8080/"
        },
        "id": "kUCZxrXvr6oR",
        "outputId": "5c35e786-abe8-4b84-ca57-c3a458bc4585"
      },
      "source": [
        "training_data['subtask_c'].value_counts() #count number of  tweets targeted Individually, towards a Group or Other for Subtask C"
      ],
      "execution_count": 114,
      "outputs": [
        {
          "output_type": "execute_result",
          "data": {
            "text/plain": [
              "IND    2407\n",
              "GRP    1074\n",
              "OTH     395\n",
              "Name: subtask_c, dtype: int64"
            ]
          },
          "metadata": {
            "tags": []
          },
          "execution_count": 114
        }
      ]
    },
    {
      "cell_type": "code",
      "metadata": {
        "colab": {
          "base_uri": "https://localhost:8080/",
          "height": 264
        },
        "id": "hdxDsY-KcxeX",
        "outputId": "25314edf-b897-47a0-e1d3-367ed55e83bb"
      },
      "source": [
        "import matplotlib.pyplot as plt\n",
        "\n",
        "lines = 'NOT = 8840', 'OFF = 4400'\n",
        "sections = [8840, 4400]\n",
        "colors = ['g', 'r']\n",
        "\n",
        "plt.pie(sections, colors=colors,\n",
        "        startangle=90,\n",
        "        explode = (0,0.1),\n",
        "        autopct = '%1.2f%%')\n",
        "plt.axis('equal') # Try commenting this out.\n",
        "plt.title('Tweet Distribution for Subtask_A')\n",
        "plt.legend(lines)\n",
        "plt.show()"
      ],
      "execution_count": 115,
      "outputs": [
        {
          "output_type": "display_data",
          "data": {
            "image/png": "[encoded data removed]",
            "text/plain": [
              "<Figure size 432x288 with 1 Axes>"
            ]
          },
          "metadata": {
            "tags": []
          }
        }
      ]
    },
    {
      "cell_type": "code",
      "metadata": {
        "colab": {
          "base_uri": "https://localhost:8080/",
          "height": 264
        },
        "id": "hkOkKH3AsLMq",
        "outputId": "4316767c-ab2d-4c95-8a43-1459c1e9eab7"
      },
      "source": [
        "import matplotlib.pyplot as plt\n",
        "\n",
        "lines = 'TIN = 3876', 'UNT = 524'\n",
        "sections = [3876, 524]\n",
        "colors = ['c', 'r']\n",
        "\n",
        "plt.pie(sections, colors=colors,\n",
        "        startangle=90,\n",
        "        explode = (0,0.1),\n",
        "        autopct = '%1.2f%%')\n",
        "plt.axis('equal') # Try commenting this out.\n",
        "plt.title('Tweet Distribution for Subtask_B')\n",
        "plt.legend(lines)\n",
        "plt.show()"
      ],
      "execution_count": 116,
      "outputs": [
        {
          "output_type": "display_data",
          "data": {
            "image/png": "[encoded data removed]",
            "text/plain": [
              "<Figure size 432x288 with 1 Axes>"
            ]
          },
          "metadata": {
            "tags": []
          }
        }
      ]
    },
    {
      "cell_type": "code",
      "metadata": {
        "colab": {
          "base_uri": "https://localhost:8080/",
          "height": 264
        },
        "id": "A1gZFmjjsXhT",
        "outputId": "f6cde0d5-34fc-409c-a0b4-239d87b17fa6"
      },
      "source": [
        "import matplotlib.pyplot as plt\n",
        "\n",
        "lines = 'IND = 2407', 'GRP = 1024', 'OTH = 395'\n",
        "sections = [2407, 1074, 395]\n",
        "colors = ['orange', 'royalblue', 'lightblue']\n",
        "\n",
        "plt.pie(sections, colors=colors,\n",
        "        startangle=90,\n",
        "        explode = (0,0.1,0.1),\n",
        "        autopct = '%1.2f%%')\n",
        "plt.axis('equal') # Try commenting this out.\n",
        "plt.title('Tweet Distribution for Subtask_B')\n",
        "plt.legend(lines)\n",
        "plt.show()"
      ],
      "execution_count": 117,
      "outputs": [
        {
          "output_type": "display_data",
          "data": {
            "image/png": "[encoded data removed]",
            "text/plain": [
              "<Figure size 432x288 with 1 Axes>"
            ]
          },
          "metadata": {
            "tags": []
          }
        }
      ]
    }
  ]
}